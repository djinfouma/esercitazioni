{
 "cells": [
  {
   "cell_type": "markdown",
   "metadata": {},
   "source": [
    "# Get Tweets\n",
    "\n",
    "This script extracts all the tweets with hashtag #covid-19 related to the day before today (yesterday) and saves them into a .csv file.\n",
    "We use the `tweepy` library, which can be installed with the command `pip install tweepy`.\n",
    "\n",
    "Firstly, we import the configuration file, called `config.py`, which is located in the same directory of this script."
   ]
  },
  {
   "cell_type": "code",
   "execution_count": 113,
   "metadata": {},
   "outputs": [],
   "source": [
    "from config import *\n",
    "import tweepy\n",
    "import datetime"
   ]
  },
  {
   "cell_type": "markdown",
   "metadata": {},
   "source": [
    "We setup the connection to our Twitter App by using the `OAuthHandler()` class and its `access_token()` function. Then we call the Twitter API through the `API()` function."
   ]
  },
  {
   "cell_type": "code",
   "execution_count": 114,
   "metadata": {},
   "outputs": [],
   "source": [
    "auth = tweepy.OAuthHandler(TWITTER_CONSUMER_KEY, TWITTER_CONSUMER_SECRET)\n",
    "auth.set_access_token(TWITTER_ACCESS_TOKEN, TWITTER_ACCESS_TOKEN_SECRET)\n",
    "api = tweepy.API(auth,wait_on_rate_limit=True)"
   ]
  },
  {
   "cell_type": "markdown",
   "metadata": {},
   "source": [
    "Now we setup dates. We need to setup today and yesterday."
   ]
  },
  {
   "cell_type": "code",
   "execution_count": 115,
   "metadata": {},
   "outputs": [
    {
     "data": {
      "text/plain": [
       "(datetime.date(2021, 3, 19), datetime.date(2021, 3, 18))"
      ]
     },
     "execution_count": 115,
     "metadata": {},
     "output_type": "execute_result"
    }
   ],
   "source": [
    "today = datetime.date.today()\n",
    "yesterday= today - datetime.timedelta(days=1)\n",
    "today, yesterday"
   ]
  },
  {
   "cell_type": "markdown",
   "metadata": {},
   "source": [
    "We search for tweets on Twitter by using the `Cursor()` function. \n",
    "We pass the `api.search` parameter to the cursor, as well as the query string, which is specified through the `q` parameter of the cursor.\n",
    "The query string can receive many parameters, such as the following (not mandatory) ones:\n",
    "* `from:` - to specify a specific Twitter user profile\n",
    "* `since:` - to specify the beginning date of search\n",
    "* `until:` - to specify the ending date of search\n",
    "The cursor can also receive other parameters, such as the language and the `tweet_mode`. If `tweet_mode='extended'`, all the text of the tweet is returned, otherwise only the first 140 characters."
   ]
  },
  {
   "cell_type": "code",
   "execution_count": 116,
   "metadata": {},
   "outputs": [],
   "source": [
    "tweets_list = tweepy.Cursor(api.search, q=\"from:Agenzia_Ansa #Covid-19 since:\" + str(yesterday)+ \" until:\" + str(today),tweet_mode='extended', lang='it').items()"
   ]
  },
  {
   "cell_type": "markdown",
   "metadata": {},
   "source": [
    "Now we loop across the `tweets_list`, and, for each tweet, we extract the text, the creation date, the number of retweets and the favourite count. We store every tweet into a list, called `output`."
   ]
  },
  {
   "cell_type": "code",
   "execution_count": 117,
   "metadata": {},
   "outputs": [
    {
     "name": "stdout",
     "output_type": "stream",
     "text": [
      "\"Il numero di persone che muoiono a causa del Covid-19 in Europa è più alto ora rispetto allo scorso anno in questo periodo, il che riflette la vasta diffusione del virus\". Lo ha detto il direttore dell'Oms Europa, Hansk Kluge #ANSA https://t.co/LNKv7ug7M4\n",
      "Bandiere a mezz'asta per i palazzi delle istituzioni, gli edifici pubblici e i monumenti in Italia, in occasione della prima Giornata nazionale in memoria delle vittime della pandemia di Covid-19.  #ANSA #Giornatanazionale https://t.co/sAdXaQqIWg https://t.co/1zWtdMBonn\n",
      "A Bergamo la cerimonia per la prima Giornata nazionale in memoria delle vittime della pandemia di Covid-19. Il premier Mario Draghi: \"Lo Stato c'è e ci sarà, non possiamo abbracciarci ma dobbiamo sentirci tutti più uniti\" #ANSA #GiornataNazionale https://t.co/FONQDugzh5 https://t.co/oBHaW2vdIn\n"
     ]
    }
   ],
   "source": [
    "output = []\n",
    "for tweet in tweets_list:\n",
    "    text = tweet._json[\"full_text\"]\n",
    "    print(text)\n",
    "    favourite_count = tweet.favorite_count\n",
    "    retweet_count = tweet.retweet_count\n",
    "    created_at = tweet.created_at\n",
    "    \n",
    "    line = {'text' : text, 'favourite_count' : favourite_count, 'retweet_count' : retweet_count, 'created_at' : created_at}\n",
    "    output.append(line)"
   ]
  },
  {
   "cell_type": "markdown",
   "metadata": {},
   "source": [
    "Finally, we convert the `output` list to a `pandas DataFrame` and we store results."
   ]
  },
  {
   "cell_type": "code",
   "execution_count": 118,
   "metadata": {},
   "outputs": [],
   "source": [
    "import pandas as pd\n",
    "\n",
    "df = pd.DataFrame(output)\n",
    "#df.to_csv('output.csv', mode='a', header='False')\n",
    "df.to_csv('output.csv')"
   ]
  },
  {
   "cell_type": "code",
   "execution_count": 119,
   "metadata": {},
   "outputs": [
    {
     "data": {
      "text/html": [
       "<div>\n",
       "<style scoped>\n",
       "    .dataframe tbody tr th:only-of-type {\n",
       "        vertical-align: middle;\n",
       "    }\n",
       "\n",
       "    .dataframe tbody tr th {\n",
       "        vertical-align: top;\n",
       "    }\n",
       "\n",
       "    .dataframe thead th {\n",
       "        text-align: right;\n",
       "    }\n",
       "</style>\n",
       "<table border=\"1\" class=\"dataframe\">\n",
       "  <thead>\n",
       "    <tr style=\"text-align: right;\">\n",
       "      <th></th>\n",
       "      <th>text</th>\n",
       "      <th>favourite_count</th>\n",
       "      <th>retweet_count</th>\n",
       "      <th>created_at</th>\n",
       "    </tr>\n",
       "  </thead>\n",
       "  <tbody>\n",
       "    <tr>\n",
       "      <th>0</th>\n",
       "      <td>\"Il numero di persone che muoiono a causa del ...</td>\n",
       "      <td>46</td>\n",
       "      <td>27</td>\n",
       "      <td>2021-03-18 12:24:22</td>\n",
       "    </tr>\n",
       "    <tr>\n",
       "      <th>1</th>\n",
       "      <td>Bandiere a mezz'asta per i palazzi delle istit...</td>\n",
       "      <td>34</td>\n",
       "      <td>14</td>\n",
       "      <td>2021-03-18 12:09:46</td>\n",
       "    </tr>\n",
       "    <tr>\n",
       "      <th>2</th>\n",
       "      <td>A Bergamo la cerimonia per la prima Giornata n...</td>\n",
       "      <td>100</td>\n",
       "      <td>28</td>\n",
       "      <td>2021-03-18 11:48:28</td>\n",
       "    </tr>\n",
       "  </tbody>\n",
       "</table>\n",
       "</div>"
      ],
      "text/plain": [
       "                                                text  favourite_count  \\\n",
       "0  \"Il numero di persone che muoiono a causa del ...               46   \n",
       "1  Bandiere a mezz'asta per i palazzi delle istit...               34   \n",
       "2  A Bergamo la cerimonia per la prima Giornata n...              100   \n",
       "\n",
       "   retweet_count          created_at  \n",
       "0             27 2021-03-18 12:24:22  \n",
       "1             14 2021-03-18 12:09:46  \n",
       "2             28 2021-03-18 11:48:28  "
      ]
     },
     "execution_count": 119,
     "metadata": {},
     "output_type": "execute_result"
    }
   ],
   "source": [
    "df.head()"
   ]
  },
  {
   "cell_type": "code",
   "execution_count": null,
   "metadata": {},
   "outputs": [],
   "source": []
  }
 ],
 "metadata": {
  "kernelspec": {
   "display_name": "Python 3",
   "language": "python",
   "name": "python3"
  },
  "language_info": {
   "codemirror_mode": {
    "name": "ipython",
    "version": 3
   },
   "file_extension": ".py",
   "mimetype": "text/x-python",
   "name": "python",
   "nbconvert_exporter": "python",
   "pygments_lexer": "ipython3",
   "version": "3.8.1"
  }
 },
 "nbformat": 4,
 "nbformat_minor": 4
}
